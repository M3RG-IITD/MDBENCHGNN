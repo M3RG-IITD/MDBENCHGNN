{
 "cells": [
  {
   "cell_type": "code",
   "execution_count": 1,
   "metadata": {},
   "outputs": [],
   "source": [
    "# import sys\n",
    "# sys.path.append(\"/home/sire/phd/srz228573/torchmd-net/torchmdnet/models\")"
   ]
  },
  {
   "cell_type": "code",
   "execution_count": 2,
   "metadata": {},
   "outputs": [],
   "source": [
    "from torchmdnet.models.model import load_model\n",
    "import numpy as np\n",
    "import torch"
   ]
  },
  {
   "cell_type": "code",
   "execution_count": 3,
   "metadata": {},
   "outputs": [],
   "source": [
    "#model = load_model(\"/home/sire/phd/srz228573/benchmarking_datasets/fone_output/torchmdnet/lips2/logs/epoch=209-val_loss=0.0165-test_loss=0.0897.ckpt\", derivative=True)\n",
    "model = load_model(\"/home/sire/phd/srz228573/benchmarking_datasets/fone_output/torchmdnet/rmd17/aspirin/logs/epoch=9-val_loss=0.1899-test_loss=0.0000.ckpt\", derivative = True)"
   ]
  },
  {
   "cell_type": "code",
   "execution_count": 4,
   "metadata": {},
   "outputs": [],
   "source": [
    "data_path = \"/home/sire/phd/srz228573/torchmd-net/bench_data_sl/fone_dataset/mdsim_data/mace_data_sl/rmd17/npz_data/aspirin/val/nequip_npz.npz\""
   ]
  },
  {
   "cell_type": "code",
   "execution_count": 5,
   "metadata": {},
   "outputs": [],
   "source": [
    "data = np.load(data_path)"
   ]
  },
  {
   "cell_type": "code",
   "execution_count": 6,
   "metadata": {},
   "outputs": [
    {
     "data": {
      "text/plain": [
       "['nuclear_charges',\n",
       " 'coords',\n",
       " 'energies',\n",
       " 'forces',\n",
       " 'old_indices',\n",
       " 'old_energies',\n",
       " 'old_forces']"
      ]
     },
     "execution_count": 6,
     "metadata": {},
     "output_type": "execute_result"
    }
   ],
   "source": [
    "data.files"
   ]
  },
  {
   "cell_type": "code",
   "execution_count": 14,
   "metadata": {},
   "outputs": [
    {
     "data": {
      "text/plain": [
       "-406272.65480627894"
      ]
     },
     "execution_count": 14,
     "metadata": {},
     "output_type": "execute_result"
    }
   ],
   "source": [
    "data[\"energies\"][0]"
   ]
  },
  {
   "cell_type": "code",
   "execution_count": 7,
   "metadata": {},
   "outputs": [
    {
     "data": {
      "text/plain": [
       "(20000, 21, 3)"
      ]
     },
     "execution_count": 7,
     "metadata": {},
     "output_type": "execute_result"
    }
   ],
   "source": [
    "data[\"coords\"].shape"
   ]
  },
  {
   "cell_type": "code",
   "execution_count": 8,
   "metadata": {},
   "outputs": [],
   "source": [
    "sample_an = torch.tensor(data[\"nuclear_charges\"], dtype=torch.int64)\n",
    "sample_pos = torch.tensor(data[\"coords\"][0], dtype = torch.float)\n",
    "#sample_batch = torch.tensor(data[\"atomic_numbers\"], dtype=torch.long)"
   ]
  },
  {
   "cell_type": "code",
   "execution_count": 9,
   "metadata": {},
   "outputs": [],
   "source": [
    "pred_e , pred_f = model(sample_an, sample_pos)"
   ]
  },
  {
   "cell_type": "code",
   "execution_count": 10,
   "metadata": {},
   "outputs": [],
   "source": [
    "from tqdm import tqdm"
   ]
  },
  {
   "cell_type": "code",
   "execution_count": 18,
   "metadata": {},
   "outputs": [
    {
     "name": "stderr",
     "output_type": "stream",
     "text": [
      "100%|██████████| 2000/2000 [01:21<00:00, 24.51it/s]\n"
     ]
    }
   ],
   "source": [
    "y_true = []\n",
    "y_pred = []\n",
    "for i in tqdm(range(int(len(data[\"coords\"])*.1))):# 10% sample\n",
    "    sample_an = torch.tensor(data[\"nuclear_charges\"], dtype=torch.int64)\n",
    "    sample_pos = torch.tensor(data[\"coords\"][i], dtype = torch.float)\n",
    "    pred_e , _ = model(sample_an, sample_pos)\n",
    "    y_pred.append(pred_e.detach().numpy()[0][0])\n",
    "    y_true.append(data[\"energies\"][i])\n",
    "    "
   ]
  },
  {
   "cell_type": "code",
   "execution_count": 19,
   "metadata": {},
   "outputs": [
    {
     "data": {
      "text/plain": [
       "0.26188403222357737"
      ]
     },
     "execution_count": 19,
     "metadata": {},
     "output_type": "execute_result"
    }
   ],
   "source": [
    "from sklearn.metrics import mean_absolute_error\n",
    "mean_absolute_error(y_true, y_pred)"
   ]
  },
  {
   "cell_type": "code",
   "execution_count": 28,
   "metadata": {},
   "outputs": [
    {
     "name": "stderr",
     "output_type": "stream",
     "text": [
      "100%|██████████| 2000/2000 [01:31<00:00, 21.84it/s]\n"
     ]
    }
   ],
   "source": [
    "y_true = []\n",
    "y_pred = []\n",
    "for i in tqdm(range(int(len(data[\"coords\"])*.1))):# 10% sample\n",
    "    sample_an = torch.tensor(data[\"nuclear_charges\"], dtype=torch.int64)\n",
    "    sample_pos = torch.tensor(data[\"coords\"][i], dtype = torch.float)\n",
    "    _ , pred_f = model(sample_an, sample_pos)\n",
    "    y_pred.append(pred_f.detach().numpy().reshape(-1).tolist())\n",
    "    y_true.append(data[\"forces\"][i].reshape(-1).tolist())\n",
    "    "
   ]
  },
  {
   "cell_type": "code",
   "execution_count": 29,
   "metadata": {},
   "outputs": [
    {
     "data": {
      "text/plain": [
       "0.3507228524127299"
      ]
     },
     "execution_count": 29,
     "metadata": {},
     "output_type": "execute_result"
    }
   ],
   "source": [
    "mean_absolute_error(y_true, y_pred)"
   ]
  },
  {
   "cell_type": "code",
   "execution_count": null,
   "metadata": {},
   "outputs": [],
   "source": []
  }
 ],
 "metadata": {
  "kernelspec": {
   "display_name": "bebam_tmd",
   "language": "python",
   "name": "python3"
  },
  "language_info": {
   "codemirror_mode": {
    "name": "ipython",
    "version": 3
   },
   "file_extension": ".py",
   "mimetype": "text/x-python",
   "name": "python",
   "nbconvert_exporter": "python",
   "pygments_lexer": "ipython3",
   "version": "3.10.0"
  },
  "orig_nbformat": 4
 },
 "nbformat": 4,
 "nbformat_minor": 2
}

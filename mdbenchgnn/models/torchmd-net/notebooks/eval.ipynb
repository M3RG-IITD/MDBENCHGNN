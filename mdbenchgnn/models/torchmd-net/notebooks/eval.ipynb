{
 "cells": [
  {
   "cell_type": "code",
   "execution_count": 1,
   "metadata": {},
   "outputs": [],
   "source": [
    "import sys\n",
    "sys.path.append(\"/home/sire/phd/srz228573/torchmd-net/torchmdnet/models\")"
   ]
  },
  {
   "cell_type": "code",
   "execution_count": 2,
   "metadata": {},
   "outputs": [],
   "source": [
    "from model import load_model\n",
    "import numpy as np\n",
    "import torch"
   ]
  },
  {
   "cell_type": "code",
   "execution_count": 3,
   "metadata": {},
   "outputs": [
    {
     "ename": "RuntimeError",
     "evalue": "Error(s) in loading state_dict for TorchMD_Net:\n\tsize mismatch for mean: copying a param with shape torch.Size([1, 1]) from checkpoint, the shape in current model is torch.Size([]).\n\tsize mismatch for std: copying a param with shape torch.Size([1, 1]) from checkpoint, the shape in current model is torch.Size([]).",
     "output_type": "error",
     "traceback": [
      "\u001b[0;31m---------------------------------------------------------------------------\u001b[0m",
      "\u001b[0;31mRuntimeError\u001b[0m                              Traceback (most recent call last)",
      "Cell \u001b[0;32mIn[3], line 2\u001b[0m\n\u001b[1;32m      1\u001b[0m \u001b[39m#model = load_model(\"/home/sire/phd/srz228573/benchmarking_datasets/fone_output/torchmdnet/lips2/logs/epoch=209-val_loss=0.0165-test_loss=0.0897.ckpt\", derivative=True)\u001b[39;00m\n\u001b[0;32m----> 2\u001b[0m model \u001b[39m=\u001b[39m load_model(\u001b[39m\"\u001b[39;49m\u001b[39m/home/sire/phd/srz228573/torchmd-net/bench_data_sl/fone_output/torchmdnet/ala/logs/epoch=49-val_loss=3.3522-test_loss=1.1794.ckpt\u001b[39;49m\u001b[39m\"\u001b[39;49m, derivative \u001b[39m=\u001b[39;49m \u001b[39mTrue\u001b[39;49;00m)\n",
      "File \u001b[0;32m~/torchmd-net/torchmdnet/models/model.py:116\u001b[0m, in \u001b[0;36mload_model\u001b[0;34m(filepath, args, device, **kwargs)\u001b[0m\n\u001b[1;32m    113\u001b[0m     state_dict[\u001b[39m\"\u001b[39m\u001b[39mmean\u001b[39m\u001b[39m\"\u001b[39m] \u001b[39m=\u001b[39m torch\u001b[39m.\u001b[39mrandn(\u001b[39m1\u001b[39m, \u001b[39m1\u001b[39m)\n\u001b[1;32m    114\u001b[0m     state_dict[\u001b[39m\"\u001b[39m\u001b[39mstd\u001b[39m\u001b[39m\"\u001b[39m] \u001b[39m=\u001b[39m torch\u001b[39m.\u001b[39mrandn(\u001b[39m1\u001b[39m, \u001b[39m1\u001b[39m)\n\u001b[0;32m--> 116\u001b[0m model\u001b[39m.\u001b[39;49mload_state_dict(state_dict, strict \u001b[39m=\u001b[39;49m \u001b[39mFalse\u001b[39;49;00m)\n\u001b[1;32m    117\u001b[0m \u001b[39m#model.load_state_dict(dict([(n, p) for n, p in state_dict.items()]), strict=False)\u001b[39;00m\n\u001b[1;32m    119\u001b[0m \u001b[39mreturn\u001b[39;00m model\u001b[39m.\u001b[39mto(device)\n",
      "File \u001b[0;32m~/anaconda3/envs/bebam_tmd/lib/python3.10/site-packages/torch/nn/modules/module.py:2041\u001b[0m, in \u001b[0;36mModule.load_state_dict\u001b[0;34m(self, state_dict, strict)\u001b[0m\n\u001b[1;32m   2036\u001b[0m         error_msgs\u001b[39m.\u001b[39minsert(\n\u001b[1;32m   2037\u001b[0m             \u001b[39m0\u001b[39m, \u001b[39m'\u001b[39m\u001b[39mMissing key(s) in state_dict: \u001b[39m\u001b[39m{}\u001b[39;00m\u001b[39m. \u001b[39m\u001b[39m'\u001b[39m\u001b[39m.\u001b[39mformat(\n\u001b[1;32m   2038\u001b[0m                 \u001b[39m'\u001b[39m\u001b[39m, \u001b[39m\u001b[39m'\u001b[39m\u001b[39m.\u001b[39mjoin(\u001b[39m'\u001b[39m\u001b[39m\"\u001b[39m\u001b[39m{}\u001b[39;00m\u001b[39m\"\u001b[39m\u001b[39m'\u001b[39m\u001b[39m.\u001b[39mformat(k) \u001b[39mfor\u001b[39;00m k \u001b[39min\u001b[39;00m missing_keys)))\n\u001b[1;32m   2040\u001b[0m \u001b[39mif\u001b[39;00m \u001b[39mlen\u001b[39m(error_msgs) \u001b[39m>\u001b[39m \u001b[39m0\u001b[39m:\n\u001b[0;32m-> 2041\u001b[0m     \u001b[39mraise\u001b[39;00m \u001b[39mRuntimeError\u001b[39;00m(\u001b[39m'\u001b[39m\u001b[39mError(s) in loading state_dict for \u001b[39m\u001b[39m{}\u001b[39;00m\u001b[39m:\u001b[39m\u001b[39m\\n\u001b[39;00m\u001b[39m\\t\u001b[39;00m\u001b[39m{}\u001b[39;00m\u001b[39m'\u001b[39m\u001b[39m.\u001b[39mformat(\n\u001b[1;32m   2042\u001b[0m                        \u001b[39mself\u001b[39m\u001b[39m.\u001b[39m\u001b[39m__class__\u001b[39m\u001b[39m.\u001b[39m\u001b[39m__name__\u001b[39m, \u001b[39m\"\u001b[39m\u001b[39m\\n\u001b[39;00m\u001b[39m\\t\u001b[39;00m\u001b[39m\"\u001b[39m\u001b[39m.\u001b[39mjoin(error_msgs)))\n\u001b[1;32m   2043\u001b[0m \u001b[39mreturn\u001b[39;00m _IncompatibleKeys(missing_keys, unexpected_keys)\n",
      "\u001b[0;31mRuntimeError\u001b[0m: Error(s) in loading state_dict for TorchMD_Net:\n\tsize mismatch for mean: copying a param with shape torch.Size([1, 1]) from checkpoint, the shape in current model is torch.Size([]).\n\tsize mismatch for std: copying a param with shape torch.Size([1, 1]) from checkpoint, the shape in current model is torch.Size([])."
     ]
    }
   ],
   "source": [
    "#model = load_model(\"/home/sire/phd/srz228573/benchmarking_datasets/fone_output/torchmdnet/lips2/logs/epoch=209-val_loss=0.0165-test_loss=0.0897.ckpt\", derivative=True)\n",
    "model = load_model(\"/home/sire/phd/srz228573/torchmd-net/bench_data_sl/fone_output/torchmdnet/acac/300/logs/epoch=1689-val_loss=0.0092-test_loss=0.0388.ckpt\", derivative = True)"
   ]
  },
  {
   "cell_type": "code",
   "execution_count": 10,
   "metadata": {},
   "outputs": [],
   "source": [
    "data_path = \"/home/sire/phd/srz228573/torchmd-net/bench_data_sl/fone_dataset/mdsim_data/mace_data_sl/rmd17/npz_data/aspirin/val/nequip_npz.npz\""
   ]
  },
  {
   "cell_type": "code",
   "execution_count": 11,
   "metadata": {},
   "outputs": [],
   "source": [
    "data = np.load(data_path)"
   ]
  },
  {
   "cell_type": "code",
   "execution_count": 12,
   "metadata": {},
   "outputs": [
    {
     "data": {
      "text/plain": [
       "['nuclear_charges',\n",
       " 'coords',\n",
       " 'energies',\n",
       " 'forces',\n",
       " 'old_indices',\n",
       " 'old_energies',\n",
       " 'old_forces']"
      ]
     },
     "execution_count": 12,
     "metadata": {},
     "output_type": "execute_result"
    }
   ],
   "source": [
    "data.files"
   ]
  },
  {
   "cell_type": "code",
   "execution_count": 20,
   "metadata": {},
   "outputs": [
    {
     "data": {
      "text/plain": [
       "(1000, 83, 3)"
      ]
     },
     "execution_count": 20,
     "metadata": {},
     "output_type": "execute_result"
    }
   ],
   "source": [
    "data[\"pos\"].shape"
   ]
  },
  {
   "cell_type": "code",
   "execution_count": 32,
   "metadata": {},
   "outputs": [],
   "source": [
    "sample_an = torch.tensor(data[\"atomic_numbers\"], dtype=torch.int64)\n",
    "sample_pos = torch.tensor(data[\"pos\"][0], dtype = torch.float)\n",
    "#sample_batch = torch.tensor(data[\"atomic_numbers\"], dtype=torch.long)"
   ]
  },
  {
   "cell_type": "code",
   "execution_count": 35,
   "metadata": {},
   "outputs": [
    {
     "data": {
      "text/plain": [
       "array([-357.76645385])"
      ]
     },
     "execution_count": 35,
     "metadata": {},
     "output_type": "execute_result"
    }
   ],
   "source": [
    "data[\"energy\"][0]"
   ]
  },
  {
   "cell_type": "code",
   "execution_count": 65,
   "metadata": {},
   "outputs": [
    {
     "data": {
      "text/plain": [
       "[0.140055,\n",
       " -0.072523,\n",
       " 0.15614,\n",
       " 0.292358,\n",
       " 0.181314,\n",
       " 0.649291,\n",
       " -0.04958,\n",
       " 0.228713,\n",
       " -0.02782,\n",
       " 0.105383,\n",
       " -0.180811,\n",
       " 0.108561,\n",
       " -0.461815,\n",
       " -0.438055,\n",
       " 0.072563,\n",
       " -0.11117,\n",
       " 0.059924,\n",
       " -0.541595,\n",
       " -0.024586,\n",
       " 0.259346,\n",
       " 0.00498,\n",
       " 0.487963,\n",
       " 0.654707,\n",
       " 0.033238,\n",
       " -0.249255,\n",
       " -0.274291,\n",
       " -0.325159,\n",
       " 0.306945,\n",
       " -0.541175,\n",
       " -0.255979,\n",
       " 0.170464,\n",
       " -0.451539,\n",
       " -0.338122,\n",
       " 0.054783,\n",
       " 0.11219,\n",
       " 0.342195,\n",
       " 0.106185,\n",
       " -0.131755,\n",
       " -0.22801,\n",
       " 0.416102,\n",
       " 0.134834,\n",
       " 0.74536,\n",
       " 0.867692,\n",
       " -0.015244,\n",
       " 0.023338,\n",
       " 0.227926,\n",
       " -0.429522,\n",
       " 0.063006,\n",
       " 0.018059,\n",
       " -0.187791,\n",
       " 0.103225,\n",
       " 0.498418,\n",
       " -0.497752,\n",
       " 0.383707,\n",
       " -0.356182,\n",
       " -0.198849,\n",
       " -0.110827,\n",
       " -0.039437,\n",
       " -0.43186,\n",
       " -0.318474,\n",
       " 0.026411,\n",
       " 0.033006,\n",
       " -0.000774,\n",
       " 0.162771,\n",
       " -0.026142,\n",
       " -0.159467,\n",
       " -0.059036,\n",
       " 0.13238,\n",
       " -0.122671,\n",
       " 0.315283,\n",
       " 0.21945,\n",
       " 0.006801,\n",
       " 0.075723,\n",
       " 0.059662,\n",
       " -0.894275,\n",
       " 0.348508,\n",
       " 0.156919,\n",
       " -0.095214,\n",
       " 0.057062,\n",
       " -0.597611,\n",
       " 0.233396,\n",
       " 0.515035,\n",
       " 0.123776,\n",
       " -0.525764,\n",
       " -1.20129,\n",
       " -1.230282,\n",
       " -0.901754,\n",
       " 1.073646,\n",
       " 0.415436,\n",
       " -0.357087,\n",
       " -0.009312,\n",
       " -0.466774,\n",
       " 0.073984,\n",
       " -0.102045,\n",
       " -0.459684,\n",
       " -0.407693,\n",
       " -1.198833,\n",
       " 0.459974,\n",
       " 0.236759,\n",
       " 1.134999,\n",
       " -0.666603,\n",
       " -0.509556,\n",
       " -1.981684,\n",
       " 0.372741,\n",
       " -0.267214,\n",
       " 0.18716,\n",
       " 1.11198,\n",
       " 0.261498,\n",
       " -0.525435,\n",
       " -2.248237,\n",
       " -0.918219,\n",
       " 0.506937,\n",
       " 0.726346,\n",
       " -1.898959,\n",
       " -0.63526,\n",
       " 1.183397,\n",
       " -0.347417,\n",
       " 0.596213,\n",
       " -0.268879,\n",
       " -0.78788,\n",
       " -0.78336,\n",
       " -0.144694,\n",
       " 0.410354,\n",
       " -0.344137,\n",
       " 0.743364,\n",
       " -0.776739,\n",
       " -0.272834,\n",
       " 0.167996,\n",
       " -0.699865,\n",
       " -0.108451,\n",
       " 0.380152,\n",
       " 1.243193,\n",
       " -0.733571,\n",
       " 0.4434,\n",
       " 0.068917,\n",
       " 0.29975,\n",
       " 0.542314,\n",
       " -0.303152,\n",
       " -0.84561,\n",
       " 0.115933,\n",
       " 1.067657,\n",
       " 0.372819,\n",
       " -0.064473,\n",
       " -0.319708,\n",
       " 0.718099,\n",
       " 1.427216,\n",
       " 0.889705,\n",
       " -1.291195,\n",
       " 0.341445,\n",
       " 0.775068,\n",
       " 0.523248,\n",
       " -0.801202,\n",
       " -0.607057,\n",
       " -0.221484,\n",
       " -0.455078,\n",
       " -0.044235,\n",
       " 0.498206,\n",
       " 1.512272,\n",
       " -0.248837,\n",
       " -0.128814,\n",
       " 0.184611,\n",
       " 0.837037,\n",
       " -0.25622,\n",
       " 0.054225,\n",
       " -0.379686,\n",
       " 0.807445,\n",
       " 0.018587,\n",
       " -0.012686,\n",
       " 0.889123,\n",
       " -0.565869,\n",
       " 0.177555,\n",
       " 0.12393,\n",
       " -0.512429,\n",
       " -0.173117,\n",
       " -0.278534,\n",
       " -0.877115,\n",
       " 0.789511,\n",
       " 0.312163,\n",
       " -0.661183,\n",
       " 0.456948,\n",
       " 0.506486,\n",
       " 0.392292,\n",
       " -0.437923,\n",
       " -1.937325,\n",
       " -0.339707,\n",
       " 0.125444,\n",
       " 1.004537,\n",
       " -0.533918,\n",
       " -0.267069,\n",
       " 0.310694,\n",
       " 0.749018,\n",
       " -0.352931,\n",
       " 0.808754,\n",
       " 0.961444,\n",
       " 0.651207,\n",
       " 0.065563,\n",
       " -0.287544,\n",
       " -0.125937,\n",
       " -0.163058,\n",
       " 0.410405,\n",
       " -0.020047,\n",
       " -0.516497,\n",
       " -0.514166,\n",
       " 0.373776,\n",
       " -0.216433,\n",
       " -0.007904,\n",
       " -0.239517,\n",
       " 0.686768,\n",
       " -1.116411,\n",
       " 0.48422,\n",
       " -0.054251,\n",
       " 1.468394,\n",
       " -0.376145,\n",
       " -0.759208,\n",
       " 0.18627,\n",
       " -0.095107,\n",
       " -0.342511,\n",
       " 0.420121,\n",
       " 0.387295,\n",
       " 0.954359,\n",
       " -0.811493,\n",
       " 0.499328,\n",
       " 0.35733,\n",
       " -0.057373,\n",
       " 0.562674,\n",
       " -0.491487,\n",
       " 0.436327,\n",
       " -0.978126,\n",
       " 0.23781,\n",
       " 0.977811,\n",
       " 0.120578,\n",
       " 0.025455,\n",
       " -0.194904,\n",
       " 1.109292,\n",
       " -1.154882,\n",
       " 0.469159,\n",
       " 0.842595,\n",
       " -0.134577,\n",
       " 0.366118,\n",
       " 0.439668,\n",
       " 0.957476,\n",
       " -1.237941,\n",
       " 0.541751,\n",
       " -0.586432,\n",
       " -0.173627,\n",
       " -0.276599,\n",
       " -0.511939,\n",
       " -0.205927,\n",
       " 0.741327]"
      ]
     },
     "execution_count": 65,
     "metadata": {},
     "output_type": "execute_result"
    }
   ],
   "source": [
    "data[\"forces\"][0].reshape(-1).tolist()"
   ]
  },
  {
   "cell_type": "code",
   "execution_count": 33,
   "metadata": {},
   "outputs": [
    {
     "data": {
      "text/plain": [
       "torch.Size([83])"
      ]
     },
     "execution_count": 33,
     "metadata": {},
     "output_type": "execute_result"
    }
   ],
   "source": [
    "sample_an.shape"
   ]
  },
  {
   "cell_type": "code",
   "execution_count": 36,
   "metadata": {},
   "outputs": [],
   "source": [
    "pred_e , pred_f = model(sample_an, sample_pos)"
   ]
  },
  {
   "cell_type": "code",
   "execution_count": 50,
   "metadata": {},
   "outputs": [
    {
     "data": {
      "text/plain": [
       "array([[ 0.45817465, -0.2956959 , -0.23315057],\n",
       "       [ 0.06279428, -0.01850238,  0.04368188],\n",
       "       [ 0.42838988,  0.13666423, -0.0648061 ],\n",
       "       [-0.02978445,  0.49436283,  0.28060314],\n",
       "       [-0.24293035, -0.4263128 , -0.0638736 ],\n",
       "       [-0.06903883, -0.15259601, -0.14137742],\n",
       "       [ 0.58165675, -0.5842903 , -0.41140145],\n",
       "       [-0.14438964, -0.2826755 , -0.24725197],\n",
       "       [ 0.21011165, -0.08785138,  0.37960175],\n",
       "       [-0.00559542, -0.25560042,  0.03887326],\n",
       "       [-0.160956  ,  0.09895778,  0.04044032],\n",
       "       [-0.30424958,  0.06627703,  0.10894996],\n",
       "       [ 0.19805554,  0.08746103, -0.17070633],\n",
       "       [ 0.02268512, -0.42826727,  0.42648602],\n",
       "       [-0.03301629, -0.00739603, -0.01840309],\n",
       "       [ 1.0343399 ,  0.6759107 , -0.130508  ],\n",
       "       [ 0.04414092, -0.0925744 ,  0.46376455],\n",
       "       [-0.6248187 ,  0.43907487,  0.30372778],\n",
       "       [ 0.18612924, -0.10546705, -0.02263986],\n",
       "       [-0.02125129, -0.57210845, -0.3991884 ],\n",
       "       [ 0.09043165, -0.00800273,  0.11461464],\n",
       "       [-0.49008864,  0.11015838,  0.20791435],\n",
       "       [-0.2432459 , -0.15699938, -0.2612903 ],\n",
       "       [-0.17526954,  0.02038167,  0.16909596],\n",
       "       [ 0.08872386, -0.1797718 ,  0.23862119],\n",
       "       [ 0.09395516,  0.36648607, -0.1855804 ],\n",
       "       [ 0.68256235,  0.35504988,  0.06584252],\n",
       "       [ 0.19458005, -0.8592633 , -0.5364701 ],\n",
       "       [ 0.7449159 , -0.22577628,  0.5682499 ],\n",
       "       [-0.21467353,  0.3557961 ,  0.00983256],\n",
       "       [ 0.79154485,  0.07063442,  0.91653097],\n",
       "       [-0.7618447 , -0.71805656,  1.3779794 ],\n",
       "       [-1.1754305 , -0.50977385,  0.18922369],\n",
       "       [-0.38296694, -0.79227686,  0.02205871],\n",
       "       [ 0.00892892, -0.05911707,  0.13635738],\n",
       "       [-0.05024365,  0.7014317 , -0.82135457],\n",
       "       [-0.36961842, -1.4437501 ,  0.4313663 ],\n",
       "       [ 0.38100806,  1.587712  ,  0.04567122],\n",
       "       [-0.5377974 ,  0.6775321 , -0.19367169],\n",
       "       [ 0.18667263,  0.32108906,  0.0352935 ],\n",
       "       [-0.44849196,  0.35041416,  0.19367114],\n",
       "       [-0.41853684, -0.10858201,  0.36819077],\n",
       "       [-0.8634759 , -0.381464  , -0.43107715],\n",
       "       [ 0.30861992,  0.72719234, -1.2157564 ],\n",
       "       [ 0.41093656, -0.4748387 , -0.3969574 ],\n",
       "       [-0.8879855 , -0.6737878 ,  0.46988636],\n",
       "       [-0.11868767, -0.8600156 , -0.4279641 ],\n",
       "       [ 0.46815592,  1.3442454 ,  0.64482963],\n",
       "       [-0.7893357 ,  0.2702686 , -0.42481956],\n",
       "       [ 1.4196588 , -0.22840579, -0.39370453],\n",
       "       [-0.34950295, -0.22564079, -0.02025095],\n",
       "       [ 0.00277478,  0.68881714, -0.24820778],\n",
       "       [-0.5861032 ,  0.12101929, -0.34664387],\n",
       "       [ 0.05511057,  1.2187564 , -0.32583266],\n",
       "       [ 0.15211628,  1.0269718 , -0.50094575],\n",
       "       [-0.38035128, -0.42286524, -0.6130797 ],\n",
       "       [ 0.727198  ,  0.2677239 ,  0.5191821 ],\n",
       "       [-0.42942268, -0.80666685,  0.0917926 ],\n",
       "       [-0.45959842, -0.3501632 ,  0.19462287],\n",
       "       [ 0.2502196 ,  0.5132981 , -0.29254347],\n",
       "       [ 0.987799  ,  0.20187187,  0.01699258],\n",
       "       [-0.0280551 ,  0.30130884, -0.18373659],\n",
       "       [ 0.42520434,  0.42315274,  0.09361853],\n",
       "       [-0.108899  ,  0.03291666,  0.32862884],\n",
       "       [ 0.5078969 ,  0.14732417,  0.47688007],\n",
       "       [ 0.5138364 ,  1.2613922 ,  0.03609848],\n",
       "       [-0.20118074,  0.31893697, -0.11556435],\n",
       "       [-0.18528347,  0.6287326 , -0.5213551 ],\n",
       "       [-0.08812124, -0.10472949,  0.05886966],\n",
       "       [-0.33665517, -1.4048817 ,  0.272757  ],\n",
       "       [ 0.01717645,  0.37716284,  0.5140698 ],\n",
       "       [-0.71740526,  0.06789242,  0.56492424],\n",
       "       [-0.3002879 , -0.34821016,  0.23494506],\n",
       "       [ 0.14381844, -0.9042538 , -0.13272667],\n",
       "       [ 0.17045917,  0.47672296,  0.20196241],\n",
       "       [ 0.5601942 , -0.14117989, -0.47658417],\n",
       "       [ 0.5948155 ,  0.6289791 , -1.4103622 ],\n",
       "       [-0.03135473,  0.202793  , -0.18819784],\n",
       "       [-0.18465665, -0.31066144, -0.74538124],\n",
       "       [ 0.46000212, -1.3893015 ,  0.84566486],\n",
       "       [ 0.27923805, -0.59237635, -0.43927285],\n",
       "       [-0.4113636 ,  0.12052875,  0.4533548 ],\n",
       "       [-0.5830679 , -0.29325193,  0.55691504]], dtype=float32)"
      ]
     },
     "execution_count": 50,
     "metadata": {},
     "output_type": "execute_result"
    }
   ],
   "source": [
    "_.detach().numpy()"
   ]
  },
  {
   "cell_type": "code",
   "execution_count": 42,
   "metadata": {},
   "outputs": [
    {
     "data": {
      "text/plain": [
       "-358.01462"
      ]
     },
     "execution_count": 42,
     "metadata": {},
     "output_type": "execute_result"
    }
   ],
   "source": [
    "pred_e.detach().numpy()[0][0]"
   ]
  },
  {
   "cell_type": "code",
   "execution_count": 44,
   "metadata": {},
   "outputs": [],
   "source": [
    "from tqdm import tqdm"
   ]
  },
  {
   "cell_type": "code",
   "execution_count": 54,
   "metadata": {},
   "outputs": [
    {
     "name": "stderr",
     "output_type": "stream",
     "text": [
      "100%|██████████| 1000/1000 [01:45<00:00,  9.49it/s]\n"
     ]
    }
   ],
   "source": [
    "y_true = []\n",
    "y_pred = []\n",
    "for i in tqdm(range(len(data[\"pos\"]))):\n",
    "    sample_an = torch.tensor(data[\"atomic_numbers\"], dtype=torch.int64)\n",
    "    sample_pos = torch.tensor(data[\"pos\"][i], dtype = torch.float)\n",
    "    pred_e , _ = model(sample_an, sample_pos)\n",
    "    y_pred.append(pred_e.detach().numpy()[0][0])\n",
    "    y_true.append(data[\"energy\"][i][0])\n",
    "    "
   ]
  },
  {
   "cell_type": "code",
   "execution_count": 55,
   "metadata": {},
   "outputs": [
    {
     "data": {
      "text/plain": [
       "0.2107833484191409"
      ]
     },
     "execution_count": 55,
     "metadata": {},
     "output_type": "execute_result"
    }
   ],
   "source": [
    "from sklearn.metrics import mean_absolute_error\n",
    "mean_absolute_error(y_true, y_pred)"
   ]
  },
  {
   "cell_type": "code",
   "execution_count": 66,
   "metadata": {},
   "outputs": [
    {
     "name": "stderr",
     "output_type": "stream",
     "text": [
      "100%|██████████| 1000/1000 [01:46<00:00,  9.37it/s]\n"
     ]
    }
   ],
   "source": [
    "y_true = []\n",
    "y_pred = []\n",
    "for i in tqdm(range(len(data[\"pos\"]))):\n",
    "    sample_an = torch.tensor(data[\"atomic_numbers\"], dtype=torch.int64)\n",
    "    sample_pos = torch.tensor(data[\"pos\"][i], dtype = torch.float)\n",
    "    pred_e , pred_f = model(sample_an, sample_pos)\n",
    "    y_pred.append(pred_f.detach().numpy().reshape(-1).tolist())\n",
    "    y_true.append(data[\"forces\"][i].reshape(-1).tolist())\n",
    "    "
   ]
  },
  {
   "cell_type": "code",
   "execution_count": 67,
   "metadata": {},
   "outputs": [
    {
     "data": {
      "text/plain": [
       "0.07813291870145879"
      ]
     },
     "execution_count": 67,
     "metadata": {},
     "output_type": "execute_result"
    }
   ],
   "source": [
    "mean_absolute_error(y_true, y_pred)"
   ]
  },
  {
   "cell_type": "code",
   "execution_count": null,
   "metadata": {},
   "outputs": [],
   "source": []
  }
 ],
 "metadata": {
  "kernelspec": {
   "display_name": "bebam_tmd",
   "language": "python",
   "name": "python3"
  },
  "language_info": {
   "codemirror_mode": {
    "name": "ipython",
    "version": 3
   },
   "file_extension": ".py",
   "mimetype": "text/x-python",
   "name": "python",
   "nbconvert_exporter": "python",
   "pygments_lexer": "ipython3",
   "version": "3.10.0"
  },
  "orig_nbformat": 4
 },
 "nbformat": 4,
 "nbformat_minor": 2
}
